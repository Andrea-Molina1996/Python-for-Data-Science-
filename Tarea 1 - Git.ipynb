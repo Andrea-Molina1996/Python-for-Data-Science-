{
 "cells": [
  {
   "cell_type": "markdown",
   "metadata": {},
   "source": [
    "# Comandos basicos de Git\n"
   ]
  },
  {
   "cell_type": "markdown",
   "metadata": {},
   "source": [
    "## Git config\n",
    "\n",
    "Este comando sirve para configurar el correo electronico y el nombre del usuario (autor) que seran utilizados para los commits.\n",
    "\n",
    "### Ejemplos\n",
    "git config –global user.name “[name]”\n",
    "\n",
    "git config –global user.email “[email address]”"
   ]
  },
  {
   "cell_type": "markdown",
   "metadata": {},
   "source": [
    "## Git init\n",
    "\n",
    "Este comando sirve para inicializar un nuevo repositorio.\n",
    "\n",
    "### Ejemplos\n",
    "git init [repository name]"
   ]
  },
  {
   "cell_type": "markdown",
   "metadata": {},
   "source": [
    "## Git clone\n",
    "\n",
    "Este comando sirve para un repositorio de una URL.\n",
    "\n",
    "### Ejemplos\n",
    "git clone [url]"
   ]
  },
  {
   "cell_type": "markdown",
   "metadata": {},
   "source": [
    "## Git add\n",
    "\n",
    "Este comando sirve para agregar un archivo o varios archivos a el repositorio.\n",
    "\n",
    "### Ejemplos\n",
    "git add [file] - agrega un archivo en especifico.\n",
    "\n",
    "git add * - agrega todos los archivos en la carpeta.\n",
    "\n",
    "git add . - agrega todos los archivos en la carpeta."
   ]
  },
  {
   "cell_type": "markdown",
   "metadata": {},
   "source": [
    "## Git commit\n",
    "\n",
    "Este comando sirve para almacenar los archivos el repositorio (y en el control de versiones).\n",
    "\n",
    "### Ejemplos\n",
    "git commit -m \"[commit message]\"\n",
    "\n",
    "git commit -a"
   ]
  },
  {
   "cell_type": "markdown",
   "metadata": {},
   "source": [
    "## Git status\n",
    "\n",
    "Este comando sirve para obtener el status del repositorio, y lista todos los archivos que necesitan commit.\n",
    "\n",
    "### Ejemplos\n",
    "git status"
   ]
  },
  {
   "cell_type": "markdown",
   "metadata": {},
   "source": [
    "## Git rm\n",
    "\n",
    "Este comando sirve para eliminar archivos del repositorio.\n",
    "\n",
    "### Ejemplos\n",
    "git rm [file]"
   ]
  },
  {
   "cell_type": "markdown",
   "metadata": {},
   "source": [
    "## Git log\n",
    "\n",
    "Este comando sirve para obtener un historico para el branch actual.\n",
    "\n",
    "### Ejemplos\n",
    "git log"
   ]
  },
  {
   "cell_type": "markdown",
   "metadata": {},
   "source": [
    "## Git branch\n",
    "\n",
    "Este comando sirve para listar todos los branch existentes, crear un branch nuevo, eliminar un branch en especifico dependiendo de las banderas que se le agregen al comando.\n",
    "\n",
    "### Ejemplos\n",
    "git branch\n",
    "\n",
    "git branch [branch name]\n",
    "\n",
    "git branch -d [brnach name]"
   ]
  },
  {
   "cell_type": "markdown",
   "metadata": {},
   "source": [
    "## Git merge \n",
    "\n",
    "Este comando sirve para unificar una version especifica (historico) con el contenido actual del branch.\n",
    "\n",
    "### Ejemplos\n",
    "git merge [branch name]"
   ]
  },
  {
   "cell_type": "markdown",
   "metadata": {},
   "source": [
    "## Git remote\n",
    "\n",
    "Este comando sirve para coonectar un repositorio local a un repositorio en el servidor.\n",
    "\n",
    "### Ejemplos\n",
    "git remote add [variable name] [Remote Server Link]"
   ]
  },
  {
   "cell_type": "markdown",
   "metadata": {},
   "source": [
    "## Git push\n",
    "\n",
    "Este comando sirve para mandar los cambios (commit) al servidor.\n",
    "\n",
    "### Ejemplos\n",
    "git remote add [variable name] [Remote Server Link]"
   ]
  },
  {
   "cell_type": "markdown",
   "metadata": {},
   "source": [
    "## Git pull\n",
    "\n",
    "Este comando sirve para obtener y realizar un merge de archivos con el repositorio local.\n",
    "\n",
    "### Ejemplos\n",
    "git pull [Repository Link]"
   ]
  },
  {
   "cell_type": "markdown",
   "metadata": {},
   "source": [
    "# Que es Git"
   ]
  },
  {
   "cell_type": "markdown",
   "metadata": {},
   "source": [
    "Git es una herramienta que realiza una función del control de versiones de código de forma distribuida , de la que destacamos varias características:\n",
    "\n",
    " * Es muy potente\n",
    " * Fue diseñada por Linus Torvalds\n",
    " * No depende de un repositorio central\n",
    " * Es software libre\n",
    " * Con ella podemos mantener un historial completo de versiones\n",
    " * Podemos movernos, como si tuviéramos un puntero en el tiempo, por todas las revisiones de código y desplazarnos una manera muy ágil.\n",
    " * Es muy rápida\n",
    " * Tiene un sistema de trabajo con ramas que lo hace especialmente potente\n",
    " * En cuanto a la funcionalidad de las ramas, las mismas están destinadas a provocar proyectos divergentes de un proyecto principal, para hacer experimentos o para probar nuevas funcionalidades.\n",
    " * Las ramas pueden tener una línea de progreso diferente de la rama principal donde está el core de nuestro desarrollo. En algún momento podemos llegar a probar algunas de esas mejoras o cambios en el código y hacer una fusión a nuestro proyecto principal, ya que todo esto lo maneja Git de una forma muy eficiente"
   ]
  },
  {
   "cell_type": "markdown",
   "metadata": {},
   "source": [
    "# Control de Versiones"
   ]
  },
  {
   "cell_type": "markdown",
   "metadata": {},
   "source": [
    "El control de versiones es un sistema que registra los cambios realizados sobre un archivo o conjunto de archivos a lo largo del tiempo de tal manera que sea posible recuperar versiones especificas más adelante.\n",
    "\n",
    "Existen muchos Sistemas de Control de Versiones siendo algunos de los más conocidos CVS, Git, Subversion, Mercurial y Baazar."
   ]
  },
  {
   "cell_type": "markdown",
   "metadata": {},
   "source": []
  }
 ],
 "metadata": {
  "kernelspec": {
   "display_name": "Python 3",
   "language": "python",
   "name": "python3"
  },
  "language_info": {
   "codemirror_mode": {
    "name": "ipython",
    "version": 3
   },
   "file_extension": ".py",
   "mimetype": "text/x-python",
   "name": "python",
   "nbconvert_exporter": "python",
   "pygments_lexer": "ipython3",
   "version": "3.7.4"
  }
 },
 "nbformat": 4,
 "nbformat_minor": 2
}
